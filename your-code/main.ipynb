{
 "cells": [
  {
   "cell_type": "markdown",
   "metadata": {},
   "source": [
    "# Supervised Learning Model Evaluation Lab\n",
    "\n",
    "Complete the exercises below to solidify your knowledge and understanding of supervised learning model evaluation."
   ]
  },
  {
   "cell_type": "code",
   "execution_count": 4,
   "metadata": {},
   "outputs": [],
   "source": [
    "import pandas as pd\n",
    "import numpy as np\n",
    "\n",
    "from sklearn.model_selection import train_test_split as tts\n",
    "\n"
   ]
  },
  {
   "cell_type": "markdown",
   "metadata": {},
   "source": [
    "## Regression Model Evaluation"
   ]
  },
  {
   "cell_type": "code",
   "execution_count": 5,
   "metadata": {},
   "outputs": [],
   "source": [
    "from sklearn.datasets import load_boston\n",
    "\n",
    "data = load_boston()\n",
    "\n",
    "Xb = pd.DataFrame(data[\"data\"], columns=data[\"feature_names\"])\n",
    "yb = pd.DataFrame(data[\"target\"], columns=['MEDV'])\n",
    "\n",
    "data = pd.concat([Xb, yb], axis=1)"
   ]
  },
  {
   "cell_type": "markdown",
   "metadata": {},
   "source": [
    "## 1. Split this data set into training (80%) and testing (20%) sets.\n",
    "\n",
    "The `MEDV` field represents the median value of owner-occupied homes (in $1000's) and is the target variable that we will want to predict."
   ]
  },
  {
   "cell_type": "code",
   "execution_count": 6,
   "metadata": {},
   "outputs": [],
   "source": [
    "Xb_train, Xb_test, yb_train, yb_test = tts(Xb,yb, test_size=0.2)\n",
    "\n"
   ]
  },
  {
   "cell_type": "markdown",
   "metadata": {},
   "source": [
    "## 2. Train a `LinearRegression` model on this data set and generate predictions on both the training and the testing set."
   ]
  },
  {
   "cell_type": "code",
   "execution_count": 7,
   "metadata": {},
   "outputs": [],
   "source": [
    "from sklearn.linear_model import LinearRegression as LinReg\n",
    "boston1=LinReg()\n",
    "boston1.fit(Xb_train, yb_train)\n",
    "yb_pred_test = boston1.predict(Xb_test)\n",
    "yb_pred_train = boston1.predict(Xb_train)\n"
   ]
  },
  {
   "cell_type": "markdown",
   "metadata": {},
   "source": [
    "## 3. Calculate and print R-squared for both the training and the testing set."
   ]
  },
  {
   "cell_type": "code",
   "execution_count": 8,
   "metadata": {},
   "outputs": [
    {
     "name": "stdout",
     "output_type": "stream",
     "text": [
      "R2 - Coeficiente de Determinacion del training set 0.7218050189552423\n",
      "R2 - Coeficiente de Determinacion del testing set 0.778059411628957\n"
     ]
    }
   ],
   "source": [
    "from sklearn import metrics\n",
    "print('R2 - Coeficiente de Determinacion del training set', metrics.r2_score(yb_train, yb_pred_train))\n",
    "print('R2 - Coeficiente de Determinacion del testing set', metrics.r2_score(yb_test, yb_pred_test))"
   ]
  },
  {
   "cell_type": "markdown",
   "metadata": {},
   "source": [
    "## 4. Calculate and print mean squared error for both the training and the testing set."
   ]
  },
  {
   "cell_type": "code",
   "execution_count": 9,
   "metadata": {},
   "outputs": [
    {
     "name": "stdout",
     "output_type": "stream",
     "text": [
      "MSE - Error Cuadratico Medio del training set 21.55786310520929\n",
      "MSE - Error Cuadratico Medio del testing 24.81396999450374\n"
     ]
    }
   ],
   "source": [
    "print('MSE - Error Cuadratico Medio del training set', metrics.mean_squared_error(yb_train, yb_pred_train))\n",
    "print('MSE - Error Cuadratico Medio del testing', metrics.mean_squared_error(yb_test, yb_pred_test))"
   ]
  },
  {
   "cell_type": "markdown",
   "metadata": {},
   "source": [
    "## 5. Calculate and print mean absolute error for both the training and the testing set."
   ]
  },
  {
   "cell_type": "code",
   "execution_count": 10,
   "metadata": {},
   "outputs": [
    {
     "name": "stdout",
     "output_type": "stream",
     "text": [
      "MAE - Error Medio Absoluto training set 3.205941477506951\n",
      "MAE - Error Medio Absoluto testing set 3.795229146384991\n"
     ]
    }
   ],
   "source": [
    "print('MAE - Error Medio Absoluto training set', metrics.mean_absolute_error(yb_train, yb_pred_train))\n",
    "print('MAE - Error Medio Absoluto testing set', metrics.mean_absolute_error(yb_test, yb_pred_test))"
   ]
  },
  {
   "cell_type": "markdown",
   "metadata": {},
   "source": [
    "## Classification Model Evaluation"
   ]
  },
  {
   "cell_type": "code",
   "execution_count": 11,
   "metadata": {},
   "outputs": [],
   "source": [
    "from sklearn.datasets import load_iris\n",
    "\n",
    "data = load_iris()\n",
    "\n",
    "X = pd.DataFrame(data[\"data\"], columns=data[\"feature_names\"])\n",
    "y = pd.DataFrame(data[\"target\"], columns=[\"class\"])\n",
    "\n",
    "data = pd.concat([X, y], axis=1)"
   ]
  },
  {
   "cell_type": "markdown",
   "metadata": {},
   "source": [
    "## 6. Split this data set into training (80%) and testing (20%) sets.\n",
    "\n",
    "The `class` field represents the type of flower and is the target variable that we will want to predict."
   ]
  },
  {
   "cell_type": "code",
   "execution_count": 12,
   "metadata": {},
   "outputs": [],
   "source": [
    "X_train, X_test, y_train, y_test = tts(X,y, test_size=0.2)"
   ]
  },
  {
   "cell_type": "markdown",
   "metadata": {},
   "source": [
    "## 7. Train a `LogisticRegression` model on this data set and generate predictions on both the training and the testing set."
   ]
  },
  {
   "cell_type": "code",
   "execution_count": 13,
   "metadata": {},
   "outputs": [
    {
     "name": "stderr",
     "output_type": "stream",
     "text": [
      "/home/silviarico/anaconda3/envs/ironhack/lib/python3.8/site-packages/sklearn/utils/validation.py:985: DataConversionWarning: A column-vector y was passed when a 1d array was expected. Please change the shape of y to (n_samples, ), for example using ravel().\n",
      "  y = column_or_1d(y, warn=True)\n",
      "/home/silviarico/anaconda3/envs/ironhack/lib/python3.8/site-packages/sklearn/linear_model/_logistic.py:814: ConvergenceWarning: lbfgs failed to converge (status=1):\n",
      "STOP: TOTAL NO. of ITERATIONS REACHED LIMIT.\n",
      "\n",
      "Increase the number of iterations (max_iter) or scale the data as shown in:\n",
      "    https://scikit-learn.org/stable/modules/preprocessing.html\n",
      "Please also refer to the documentation for alternative solver options:\n",
      "    https://scikit-learn.org/stable/modules/linear_model.html#logistic-regression\n",
      "  n_iter_i = _check_optimize_result(\n"
     ]
    },
    {
     "data": {
      "text/plain": [
       "LogisticRegression()"
      ]
     },
     "execution_count": 13,
     "metadata": {},
     "output_type": "execute_result"
    }
   ],
   "source": [
    "from sklearn.linear_model import LogisticRegression\n",
    "log = LogisticRegression()\n",
    "log.fit(X_train,y_train)\n",
    "\n"
   ]
  },
  {
   "cell_type": "markdown",
   "metadata": {},
   "source": [
    "## 8. Calculate and print the accuracy score for both the training and the testing set."
   ]
  },
  {
   "cell_type": "code",
   "execution_count": 14,
   "metadata": {},
   "outputs": [],
   "source": [
    "from sklearn.metrics import balanced_accuracy_score, accuracy_score, precision_score, recall_score, f1_score, fbeta_score, confusion_matrix"
   ]
  },
  {
   "cell_type": "code",
   "execution_count": 15,
   "metadata": {},
   "outputs": [
    {
     "name": "stdout",
     "output_type": "stream",
     "text": [
      "Accuracy training set 0.975\n",
      "Accuracy test set 0.9666666666666667\n"
     ]
    }
   ],
   "source": [
    "y_pred_test = log.predict(X_test)\n",
    "y_pred_train = log.predict(X_train)\n",
    "\n",
    "\n",
    "print('Accuracy training set',accuracy_score( y_train, y_pred_train))\n",
    "print('Accuracy test set',accuracy_score( y_test, y_pred_test))\n",
    "\n"
   ]
  },
  {
   "cell_type": "markdown",
   "metadata": {},
   "source": [
    "## 9. Calculate and print the balanced accuracy score for both the training and the testing set."
   ]
  },
  {
   "cell_type": "code",
   "execution_count": 16,
   "metadata": {},
   "outputs": [
    {
     "name": "stdout",
     "output_type": "stream",
     "text": [
      "Accuracy balanced training set 0.9736486486486488\n",
      "Accuracy balanced test set 0.9743589743589745\n"
     ]
    }
   ],
   "source": [
    "print('Accuracy balanced training set',balanced_accuracy_score( y_train, y_pred_train))\n",
    "print('Accuracy balanced test set',balanced_accuracy_score( y_test, y_pred_test))\n"
   ]
  },
  {
   "cell_type": "markdown",
   "metadata": {},
   "source": [
    "## 10. Calculate and print the precision score for both the training and the testing set."
   ]
  },
  {
   "cell_type": "code",
   "execution_count": 17,
   "metadata": {},
   "outputs": [
    {
     "name": "stdout",
     "output_type": "stream",
     "text": [
      "precision training set 0.9751750225835593\n",
      "precision test set 0.9696969696969696\n"
     ]
    }
   ],
   "source": [
    "print('precision training set',precision_score( y_train, y_pred_train,average=\"weighted\"))\n",
    "print('precision test set',precision_score( y_test, y_pred_test,average=\"weighted\"))"
   ]
  },
  {
   "cell_type": "markdown",
   "metadata": {},
   "source": [
    "## 11. Calculate and print the recall score for both the training and the testing set."
   ]
  },
  {
   "cell_type": "code",
   "execution_count": 18,
   "metadata": {},
   "outputs": [
    {
     "name": "stdout",
     "output_type": "stream",
     "text": [
      "Recall training set 0.975\n",
      "Recall test set 0.9666666666666667\n"
     ]
    }
   ],
   "source": [
    "print('Recall training set',recall_score( y_train, y_pred_train,average=\"weighted\"))\n",
    "print('Recall test set',recall_score( y_test, y_pred_test,average=\"weighted\"))"
   ]
  },
  {
   "cell_type": "markdown",
   "metadata": {},
   "source": [
    "## 12. Calculate and print the F1 score for both the training and the testing set."
   ]
  },
  {
   "cell_type": "code",
   "execution_count": 19,
   "metadata": {},
   "outputs": [
    {
     "name": "stdout",
     "output_type": "stream",
     "text": [
      "F1 training set 0.974983088110942\n",
      "F1 test set 0.9667936507936508\n"
     ]
    }
   ],
   "source": [
    "print('F1 training set',f1_score( y_train, y_pred_train,average=\"weighted\"))\n",
    "print('F1 test set',f1_score( y_test, y_pred_test,average=\"weighted\"))"
   ]
  },
  {
   "cell_type": "markdown",
   "metadata": {},
   "source": [
    "## 13. Generate confusion matrices for both the training and the testing set."
   ]
  },
  {
   "cell_type": "code",
   "execution_count": 20,
   "metadata": {},
   "outputs": [
    {
     "data": {
      "text/plain": [
       "array([[43,  0,  0],\n",
       "       [ 0, 35,  2],\n",
       "       [ 0,  1, 39]])"
      ]
     },
     "execution_count": 20,
     "metadata": {},
     "output_type": "execute_result"
    }
   ],
   "source": [
    "confusion_matrix( y_train, y_pred_train)\n",
    "\n"
   ]
  },
  {
   "cell_type": "code",
   "execution_count": 21,
   "metadata": {},
   "outputs": [
    {
     "data": {
      "text/plain": [
       "array([[ 7,  0,  0],\n",
       "       [ 0, 12,  1],\n",
       "       [ 0,  0, 10]])"
      ]
     },
     "execution_count": 21,
     "metadata": {},
     "output_type": "execute_result"
    }
   ],
   "source": [
    "confusion_matrix( y_test, y_pred_test)"
   ]
  },
  {
   "cell_type": "markdown",
   "metadata": {},
   "source": [
    "## Bonus: For each of the data sets in this lab, try training with some of the other models you have learned about, recalculate the evaluation metrics, and compare to determine which models perform best on each data set."
   ]
  },
  {
   "cell_type": "code",
   "execution_count": 22,
   "metadata": {},
   "outputs": [],
   "source": [
    "from sklearn.linear_model import Ridge, Lasso\n",
    "from sklearn.linear_model import SGDRegressor\n",
    "from sklearn.neighbors import KNeighborsRegressor\n",
    "from sklearn.ensemble import GradientBoostingRegressor\n",
    "from sklearn.svm import SVR\n",
    "\n",
    "\n",
    "models={'ridge': Ridge(),\n",
    "    'lasso': Lasso(),\n",
    "    'sgd': SGDRegressor(),\n",
    "    'knn': KNeighborsRegressor(),\n",
    "    'grad': GradientBoostingRegressor(),}\n",
    "\n",
    "\n"
   ]
  },
  {
   "cell_type": "code",
   "execution_count": 24,
   "metadata": {},
   "outputs": [
    {
     "name": "stdout",
     "output_type": "stream",
     "text": [
      "------ridge------\n",
      "MAE -  3.835078908119012\n",
      "MSE -  25.458330717983266\n",
      "RMSE -  5.045624908570123\n",
      "R2 -  0.7722961340025266\n",
      "------lasso------\n",
      "MAE -  4.03082804665628\n",
      "MSE -  36.5850422874187\n",
      "RMSE -  6.048557041759522\n",
      "R2 -  0.6727768344747858\n",
      "------sgd------\n",
      "MAE -  110813725875319.55\n",
      "MSE -  1.2630519476125597e+28\n",
      "RMSE -  112385583933730.56\n",
      "R2 -  -1.1296962656858793e+26\n",
      "------knn------\n",
      "MAE -  5.00686274509804\n",
      "MSE -  49.09234901960784\n",
      "RMSE -  7.006593253472606\n",
      "R2 -  0.5609092447382777\n",
      "------grad------\n",
      "MAE -  2.006955349499188\n",
      "MSE -  8.498707445957518\n",
      "RMSE -  2.915254267805386\n",
      "R2 -  0.9239860396636665\n"
     ]
    },
    {
     "name": "stderr",
     "output_type": "stream",
     "text": [
      "/home/silviarico/anaconda3/envs/ironhack/lib/python3.8/site-packages/sklearn/utils/validation.py:985: DataConversionWarning: A column-vector y was passed when a 1d array was expected. Please change the shape of y to (n_samples, ), for example using ravel().\n",
      "  y = column_or_1d(y, warn=True)\n",
      "/home/silviarico/anaconda3/envs/ironhack/lib/python3.8/site-packages/sklearn/ensemble/_gb.py:494: DataConversionWarning: A column-vector y was passed when a 1d array was expected. Please change the shape of y to (n_samples, ), for example using ravel().\n",
      "  y = column_or_1d(y, warn=True)\n"
     ]
    }
   ],
   "source": [
    "#Boston\n",
    "\n",
    "\n",
    "for name, model in models.items():\n",
    "    model.fit(Xb_train, yb_train)\n",
    "\n",
    "for name, model in models.items():\n",
    "    y_pred = model.predict(Xb_test)\n",
    "    print(f\"------{name}------\")\n",
    "    print('MAE - ', metrics.mean_absolute_error(yb_test, y_pred))\n",
    "    print('MSE - ', metrics.mean_squared_error(yb_test, y_pred))\n",
    "    print('RMSE - ', np.sqrt(metrics.mean_squared_error(yb_test, y_pred)))\n",
    "    print('R2 - ', metrics.r2_score(yb_test, y_pred))\n"
   ]
  },
  {
   "cell_type": "code",
   "execution_count": 25,
   "metadata": {},
   "outputs": [
    {
     "name": "stdout",
     "output_type": "stream",
     "text": [
      "------ridge------\n",
      "MAE -  0.175540619415313\n",
      "MSE -  0.056227821543540786\n",
      "RMSE -  0.23712406361131041\n",
      "R2 -  0.8989919373469327\n",
      "------lasso------\n",
      "MAE -  0.45434118112222016\n",
      "MSE -  0.3204733430463265\n",
      "RMSE -  0.5661036504442685\n",
      "R2 -  0.42429938374911413\n",
      "------sgd------\n",
      "MAE -  0.2269605967633053\n",
      "MSE -  0.08143969270246057\n",
      "RMSE -  0.2853764053008948\n",
      "R2 -  0.8537011508339032\n",
      "------knn------\n",
      "MAE -  0.08666666666666666\n",
      "MSE -  0.06266666666666666\n",
      "RMSE -  0.2503331114069145\n",
      "R2 -  0.8874251497005988\n",
      "------grad------\n",
      "MAE -  0.08672274259271619\n",
      "MSE -  0.07199023959605098\n",
      "RMSE -  0.2683099692446238\n",
      "R2 -  0.8706762162945192\n"
     ]
    },
    {
     "name": "stderr",
     "output_type": "stream",
     "text": [
      "/home/silviarico/anaconda3/envs/ironhack/lib/python3.8/site-packages/sklearn/utils/validation.py:985: DataConversionWarning: A column-vector y was passed when a 1d array was expected. Please change the shape of y to (n_samples, ), for example using ravel().\n",
      "  y = column_or_1d(y, warn=True)\n",
      "/home/silviarico/anaconda3/envs/ironhack/lib/python3.8/site-packages/sklearn/ensemble/_gb.py:494: DataConversionWarning: A column-vector y was passed when a 1d array was expected. Please change the shape of y to (n_samples, ), for example using ravel().\n",
      "  y = column_or_1d(y, warn=True)\n"
     ]
    }
   ],
   "source": [
    "#IRIS\n",
    "for name, model in models.items():\n",
    "    model.fit(X_train, y_train)\n",
    "\n",
    "for name, model in models.items():\n",
    "    y_pred = model.predict(X_test)\n",
    "    print(f\"------{name}------\")\n",
    "    print('MAE - ', metrics.mean_absolute_error(y_test, y_pred))\n",
    "    print('MSE - ', metrics.mean_squared_error(y_test, y_pred))\n",
    "    print('RMSE - ', np.sqrt(metrics.mean_squared_error(y_test, y_pred)))\n",
    "    print('R2 - ', metrics.r2_score(y_test, y_pred))"
   ]
  }
 ],
 "metadata": {
  "kernelspec": {
   "display_name": "ironhack",
   "language": "python",
   "name": "ironhack"
  },
  "language_info": {
   "codemirror_mode": {
    "name": "ipython",
    "version": 3
   },
   "file_extension": ".py",
   "mimetype": "text/x-python",
   "name": "python",
   "nbconvert_exporter": "python",
   "pygments_lexer": "ipython3",
   "version": "3.8.5"
  }
 },
 "nbformat": 4,
 "nbformat_minor": 2
}
